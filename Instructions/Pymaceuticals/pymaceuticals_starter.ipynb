{
 "cells": [
  {
   "cell_type": "markdown",
   "metadata": {},
   "source": [
    "## Observations and Insights "
   ]
  },
  {
   "cell_type": "markdown",
   "metadata": {},
   "source": []
  },
  {
   "cell_type": "markdown",
   "metadata": {},
   "source": [
    "I was given a dataset of clinical trial data, where 9 treatment regimens were tested on mice to understand their effectiveness in treating squamous cell carcinoma (SCC).\n",
    "The data included basic information of the mice in the study such as sex, age, and weight.\n",
    "\n",
    "This was a well designed study with a large total number of subjects, N=249 mice.\n",
    "1. The mice were split relatively evenly among the 9 treatment regimens and the placebo group, all of them had 25 mice at the start of the study (except for Stelasyn which had 24 mice).\n",
    "2. The mice were also evely distriubted on sex, with 50.2% male and 49.8% female mice.\n",
    "\n",
    "In general, if the tumor size was smaller, it can be an indication of an effective treatment. \n",
    "In addition, the longer the mice are able to survive on each treatment is another factor to consider when determining the effect of the treatment.\n",
    "\n",
    "We were asked to consider the final tumor volume of mice on the following 4 treatment regimens - 'Capomulin','Ramicane','Infubinol','Ceftamin'.\n",
    "\n",
    "Mice on Capomulin and Ramicane had smaller final tumor volumes than those on Infubinol and Ceftamin.\n",
    "The IQR was lowest for Capomulin and highest for Ceftamin, indicating that tumor volume was less variable among mice treated with Capomulin at their respective final timepoint.\n",
    "Infubinol had an outlier, and this needs to be taken into account if an significance testing will be done on that in the future. \n",
    "\n",
    "Next I looked at a mouse on Capomulin, chosen at random, to see how tumor volume changed with timepoint. It showed a steady decrease which is a positive result.\n",
    "\n",
    "Finally, concentrating just on Capomulin-treated mice, a plot of the average tumor volume versus average weight across for each mouse over the duration of the study revealed some interesting results.\n",
    "1. Heavier mice generally had larger tumors, on average.\n",
    "2. These factors have a strong postiive correlation of 0.84. \n",
    "3. A linear regression line was appropriate for this data, and can be used to predict the average tumor volume of a mouse on Capomulin given it's weight. \n"
   ]
  },
  {
   "cell_type": "code",
   "execution_count": 247,
   "metadata": {},
   "outputs": [
    {
     "data": {
      "text/html": [
       "<div>\n",
       "<style scoped>\n",
       "    .dataframe tbody tr th:only-of-type {\n",
       "        vertical-align: middle;\n",
       "    }\n",
       "\n",
       "    .dataframe tbody tr th {\n",
       "        vertical-align: top;\n",
       "    }\n",
       "\n",
       "    .dataframe thead th {\n",
       "        text-align: right;\n",
       "    }\n",
       "</style>\n",
       "<table border=\"1\" class=\"dataframe\">\n",
       "  <thead>\n",
       "    <tr style=\"text-align: right;\">\n",
       "      <th></th>\n",
       "      <th>Mouse ID</th>\n",
       "      <th>Drug Regimen</th>\n",
       "      <th>Sex</th>\n",
       "      <th>Age_months</th>\n",
       "      <th>Weight (g)</th>\n",
       "      <th>Timepoint</th>\n",
       "      <th>Tumor Volume (mm3)</th>\n",
       "      <th>Metastatic Sites</th>\n",
       "    </tr>\n",
       "  </thead>\n",
       "  <tbody>\n",
       "    <tr>\n",
       "      <th>0</th>\n",
       "      <td>k403</td>\n",
       "      <td>Ramicane</td>\n",
       "      <td>Male</td>\n",
       "      <td>21</td>\n",
       "      <td>16</td>\n",
       "      <td>0</td>\n",
       "      <td>45.000000</td>\n",
       "      <td>0</td>\n",
       "    </tr>\n",
       "    <tr>\n",
       "      <th>1</th>\n",
       "      <td>k403</td>\n",
       "      <td>Ramicane</td>\n",
       "      <td>Male</td>\n",
       "      <td>21</td>\n",
       "      <td>16</td>\n",
       "      <td>5</td>\n",
       "      <td>38.825898</td>\n",
       "      <td>0</td>\n",
       "    </tr>\n",
       "    <tr>\n",
       "      <th>2</th>\n",
       "      <td>k403</td>\n",
       "      <td>Ramicane</td>\n",
       "      <td>Male</td>\n",
       "      <td>21</td>\n",
       "      <td>16</td>\n",
       "      <td>10</td>\n",
       "      <td>35.014271</td>\n",
       "      <td>1</td>\n",
       "    </tr>\n",
       "    <tr>\n",
       "      <th>3</th>\n",
       "      <td>k403</td>\n",
       "      <td>Ramicane</td>\n",
       "      <td>Male</td>\n",
       "      <td>21</td>\n",
       "      <td>16</td>\n",
       "      <td>15</td>\n",
       "      <td>34.223992</td>\n",
       "      <td>1</td>\n",
       "    </tr>\n",
       "    <tr>\n",
       "      <th>4</th>\n",
       "      <td>k403</td>\n",
       "      <td>Ramicane</td>\n",
       "      <td>Male</td>\n",
       "      <td>21</td>\n",
       "      <td>16</td>\n",
       "      <td>20</td>\n",
       "      <td>32.997729</td>\n",
       "      <td>1</td>\n",
       "    </tr>\n",
       "  </tbody>\n",
       "</table>\n",
       "</div>"
      ],
      "text/plain": [
       "  Mouse ID Drug Regimen   Sex  Age_months  Weight (g)  Timepoint  \\\n",
       "0     k403     Ramicane  Male          21          16          0   \n",
       "1     k403     Ramicane  Male          21          16          5   \n",
       "2     k403     Ramicane  Male          21          16         10   \n",
       "3     k403     Ramicane  Male          21          16         15   \n",
       "4     k403     Ramicane  Male          21          16         20   \n",
       "\n",
       "   Tumor Volume (mm3)  Metastatic Sites  \n",
       "0           45.000000                 0  \n",
       "1           38.825898                 0  \n",
       "2           35.014271                 1  \n",
       "3           34.223992                 1  \n",
       "4           32.997729                 1  "
      ]
     },
     "execution_count": 247,
     "metadata": {},
     "output_type": "execute_result"
    }
   ],
   "source": [
    "# Dependencies and Setup\n",
    "import matplotlib.pyplot as plt\n",
    "import pandas as pd\n",
    "import scipy.stats as st\n",
    "import numpy as np\n",
    "from scipy.stats import linregress\n",
    "from sklearn import datasets\n",
    "\n",
    "\n",
    "# Study data files\n",
    "mouse_metadata_path = \"data/Mouse_metadata.csv\"\n",
    "study_results_path = \"data/Study_results.csv\"\n",
    "\n",
    "# Read the mouse data and the study results\n",
    "mouse_metadata_df = pd.read_csv(mouse_metadata_path)\n",
    "study_results_df = pd.read_csv(study_results_path)\n",
    "\n",
    "# Combine the data into a single dataset\n",
    "mouse_study_df = pd.merge(mouse_metadata_df, study_results_df, on=\"Mouse ID\")\n",
    "\n",
    "# Display the data table for preview\n",
    "mouse_study_df.head()"
   ]
  },
  {
   "cell_type": "code",
   "execution_count": 248,
   "metadata": {},
   "outputs": [
    {
     "name": "stdout",
     "output_type": "stream",
     "text": [
      "1893\n"
     ]
    }
   ],
   "source": [
    "# Check the number of mice.\n",
    "print(len(mouse_study_df['Mouse ID']))"
   ]
  },
  {
   "cell_type": "code",
   "execution_count": 234,
   "metadata": {},
   "outputs": [
    {
     "name": "stdout",
     "output_type": "stream",
     "text": [
      "1888\n"
     ]
    }
   ],
   "source": [
    "# Find any duplicate rows with the same Mouse ID's and Timepoints. \n",
    "# Drop any duplicate rows\n",
    "clean_mouse_study = mouse_study_df.drop_duplicates(subset=['Mouse ID', 'Timepoint'], keep='last')\n",
    "\n",
    "# Recheck the number of mice\n",
    "print(len(clean_mouse_study))"
   ]
  },
  {
   "cell_type": "markdown",
   "metadata": {},
   "source": [
    "## Summary Statistics"
   ]
  },
  {
   "cell_type": "code",
   "execution_count": 235,
   "metadata": {},
   "outputs": [
    {
     "name": "stdout",
     "output_type": "stream",
     "text": [
      "  Drug Regimen  tumor_mean  tumor_median  tumor_var  tumor_std  tumor_sem\n",
      "0    Capomulin   40.675741     41.557809  24.947764   4.994774   0.329346\n",
      "1     Ceftamin   52.591172     51.776157  39.290177   6.268188   0.469821\n",
      "2    Infubinol   52.884795     51.820584  43.128684   6.567243   0.492236\n",
      "3     Ketapril   55.235638     53.698743  68.553577   8.279709   0.603860\n",
      "4     Naftisol   54.331565     52.509285  66.173479   8.134708   0.596466\n",
      "5      Placebo   54.033581     52.288934  61.168083   7.821003   0.581331\n",
      "6     Propriva   52.382993     50.783528  43.220205   6.574208   0.526358\n",
      "7     Ramicane   40.216745     40.673236  23.486704   4.846308   0.320955\n",
      "8     Stelasyn   54.233149     52.431737  59.450562   7.710419   0.573111\n",
      "9    Zoniferol   53.236507     51.818479  48.533355   6.966589   0.516398\n"
     ]
    }
   ],
   "source": [
    "# Generate a summary statistics table of mean, median, variance, \n",
    "# standard deviation, and SEM of the tumor volume for each regimen.\n",
    "summary_stats = clean_mouse_study.groupby(['Drug Regimen']).agg({'Tumor Volume (mm3)': ['mean', 'median', 'var','std','sem']})\n",
    "summary_stats.columns = ['tumor_mean', 'tumor_median', 'tumor_var', 'tumor_std','tumor_sem']\n",
    "summary_stats = summary_stats.reset_index()\n",
    "print(summary_stats)"
   ]
  },
  {
   "cell_type": "markdown",
   "metadata": {},
   "source": [
    "## Bar and Pie Charts"
   ]
  },
  {
   "cell_type": "code",
   "execution_count": 236,
   "metadata": {},
   "outputs": [],
   "source": [
    "# Get the regimens and the mice per regimen\n",
    "ID_regimen_dedupe = clean_mouse_study.drop_duplicates(subset=['Mouse ID', 'Drug Regimen'], keep='last')\n",
    "regimen_mice = ID_regimen_dedupe['Drug Regimen'].value_counts()\n",
    "\n",
    "regimens = list(regimen_mice.keys())\n",
    "mice_per_regimen = list(regimen_mice)"
   ]
  },
  {
   "cell_type": "code",
   "execution_count": 237,
   "metadata": {},
   "outputs": [
    {
     "data": {
      "image/png": "[encoded data removed]",
      "text/plain": [
       "<Figure size 1440x288 with 1 Axes>"
      ]
     },
     "metadata": {
      "needs_background": "light"
     },
     "output_type": "display_data"
    },
    {
     "data": {
      "text/plain": [
       "<Figure size 432x288 with 0 Axes>"
      ]
     },
     "metadata": {},
     "output_type": "display_data"
    }
   ],
   "source": [
    "# Generate a bar plot showing the total number of datapoints for each drug regimen using pandas.\n",
    "regimen_mice_df = pd.DataFrame({\n",
    "    \"Regimen\":regimens,\n",
    "    \"Mice Per Regimen\":mice_per_regimen\n",
    "})\n",
    "regimen_mice_df= regimen_mice_df.set_index(\"Regimen\")\n",
    "\n",
    "# Use DataFrame.plot() in order to create a bar chart of the data\n",
    "regimen_mice_df.plot(kind=\"bar\", figsize=(20,4))\n",
    "\n",
    "# Set a title for the chart\n",
    "plt.title(\"Mice Per Regimen\")\n",
    "plt.xlabel(\"Regimen\")\n",
    "plt.ylabel(\"Number of Mice\")\n",
    "plt.show()\n",
    "plt.tight_layout()"
   ]
  },
  {
   "cell_type": "code",
   "execution_count": 238,
   "metadata": {},
   "outputs": [
    {
     "data": {
      "text/plain": [
       "<BarContainer object of 10 artists>"
      ]
     },
     "execution_count": 238,
     "metadata": {},
     "output_type": "execute_result"
    },
    {
     "data": {
      "image/png": "[encoded data removed]",
      "text/plain": [
       "<Figure size 432x288 with 1 Axes>"
      ]
     },
     "metadata": {
      "needs_background": "light"
     },
     "output_type": "display_data"
    }
   ],
   "source": [
    "# Generate identical bar plot using pyplot instead of pandas.\n",
    "# There should be a single bar per regimen\n",
    "\n",
    "x_axis = np.arange(len(mice_per_regimen))\n",
    "tick_locations = [value for value in x_axis]\n",
    "plt.xticks(tick_locations, regimens,rotation='vertical')\n",
    "\n",
    "plt.xlim(-0.75, len(regimens)-0.25)\n",
    "plt.ylim(0, max(mice_per_regimen)+1)\n",
    "\n",
    "plt.title(\"Mice Per Regimen\")\n",
    "plt.xlabel(\"Regimen\")\n",
    "plt.ylabel(\"Number of Mice\")\n",
    "\n",
    "plt.bar(x_axis, mice_per_regimen, color='r', alpha=0.5, align=\"center\")\n"
   ]
  },
  {
   "cell_type": "code",
   "execution_count": 239,
   "metadata": {},
   "outputs": [],
   "source": [
    "# Get the number of male and female mice used in the study\n",
    "Male_Female = ID_regimen_dedupe[\"Sex\"].value_counts()\n",
    "sex = list(Male_Female.keys())\n",
    "sex_dist = list(Male_Female)"
   ]
  },
  {
   "cell_type": "code",
   "execution_count": 231,
   "metadata": {},
   "outputs": [
    {
     "data": {
      "image/png": "[encoded data removed]",
      "text/plain": [
       "<Figure size 360x360 with 1 Axes>"
      ]
     },
     "metadata": {},
     "output_type": "display_data"
    },
    {
     "data": {
      "text/plain": [
       "<Figure size 432x288 with 0 Axes>"
      ]
     },
     "metadata": {},
     "output_type": "display_data"
    }
   ],
   "source": [
    "# Generate a pie plot showing the distribution of female versus male mice using pandas\n",
    "sex_dist_df = pd.DataFrame({\n",
    "    \"Sex\":sex,\n",
    "    \"Mice Per Sex\":sex_dist\n",
    "})\n",
    "sex_dist_df= sex_dist_df.set_index(\"Sex\")\n",
    "\n",
    "# Use DataFrame.plot() in order to create a bar chart of the data\n",
    "plot = sex_dist_df.plot.pie(y=\"Mice Per Sex\", figsize=(5, 5))\n",
    "\n",
    "# Set a title for the chart\n",
    "plt.title(\"Distribution of Sex of Mice Throughout Study\")\n",
    "\n",
    "plt.show()\n",
    "plt.tight_layout()\n"
   ]
  },
  {
   "cell_type": "code",
   "execution_count": 241,
   "metadata": {},
   "outputs": [
    {
     "data": {
      "image/png": "[encoded data removed]",
      "text/plain": [
       "<Figure size 432x288 with 1 Axes>"
      ]
     },
     "metadata": {},
     "output_type": "display_data"
    }
   ],
   "source": [
    "# Generate identical pie plot using pyplot\n",
    "\n",
    "explode = (0,0)\n",
    "colors = [\"yellow\",\"orange\"]\n",
    "\n",
    "# Set a title for the chart\n",
    "plt.title(\"Distribution of Sex of Mice Throughout Study\")\n",
    "\n",
    "# Tell matplotlib to create a pie chart based upon the above data\n",
    "plt.axis(\"equal\")\n",
    "plt.pie(sex_dist, explode=explode, labels=sex, colors=colors,\n",
    "        autopct=\"%1.1f%%\", shadow=False, startangle=90)\n",
    "plt.show()"
   ]
  },
  {
   "cell_type": "markdown",
   "metadata": {},
   "source": [
    "## Quartiles, Outliers and Boxplots"
   ]
  },
  {
   "cell_type": "code",
   "execution_count": 250,
   "metadata": {},
   "outputs": [
    {
     "data": {
      "text/html": [
       "<div>\n",
       "<style scoped>\n",
       "    .dataframe tbody tr th:only-of-type {\n",
       "        vertical-align: middle;\n",
       "    }\n",
       "\n",
       "    .dataframe tbody tr th {\n",
       "        vertical-align: top;\n",
       "    }\n",
       "\n",
       "    .dataframe thead th {\n",
       "        text-align: right;\n",
       "    }\n",
       "</style>\n",
       "<table border=\"1\" class=\"dataframe\">\n",
       "  <thead>\n",
       "    <tr style=\"text-align: right;\">\n",
       "      <th></th>\n",
       "      <th>Mouse ID</th>\n",
       "      <th>Drug Regimen</th>\n",
       "      <th>Sex</th>\n",
       "      <th>Age_months</th>\n",
       "      <th>Weight (g)</th>\n",
       "      <th>Timepoint</th>\n",
       "      <th>Tumor Volume (mm3)</th>\n",
       "      <th>Metastatic Sites</th>\n",
       "    </tr>\n",
       "  </thead>\n",
       "  <tbody>\n",
       "    <tr>\n",
       "      <th>0</th>\n",
       "      <td>k403</td>\n",
       "      <td>Ramicane</td>\n",
       "      <td>Male</td>\n",
       "      <td>21</td>\n",
       "      <td>16</td>\n",
       "      <td>0</td>\n",
       "      <td>45.000000</td>\n",
       "      <td>0</td>\n",
       "    </tr>\n",
       "    <tr>\n",
       "      <th>1</th>\n",
       "      <td>k403</td>\n",
       "      <td>Ramicane</td>\n",
       "      <td>Male</td>\n",
       "      <td>21</td>\n",
       "      <td>16</td>\n",
       "      <td>5</td>\n",
       "      <td>38.825898</td>\n",
       "      <td>0</td>\n",
       "    </tr>\n",
       "    <tr>\n",
       "      <th>2</th>\n",
       "      <td>k403</td>\n",
       "      <td>Ramicane</td>\n",
       "      <td>Male</td>\n",
       "      <td>21</td>\n",
       "      <td>16</td>\n",
       "      <td>10</td>\n",
       "      <td>35.014271</td>\n",
       "      <td>1</td>\n",
       "    </tr>\n",
       "    <tr>\n",
       "      <th>3</th>\n",
       "      <td>k403</td>\n",
       "      <td>Ramicane</td>\n",
       "      <td>Male</td>\n",
       "      <td>21</td>\n",
       "      <td>16</td>\n",
       "      <td>15</td>\n",
       "      <td>34.223992</td>\n",
       "      <td>1</td>\n",
       "    </tr>\n",
       "    <tr>\n",
       "      <th>4</th>\n",
       "      <td>k403</td>\n",
       "      <td>Ramicane</td>\n",
       "      <td>Male</td>\n",
       "      <td>21</td>\n",
       "      <td>16</td>\n",
       "      <td>20</td>\n",
       "      <td>32.997729</td>\n",
       "      <td>1</td>\n",
       "    </tr>\n",
       "  </tbody>\n",
       "</table>\n",
       "</div>"
      ],
      "text/plain": [
       "  Mouse ID Drug Regimen   Sex  Age_months  Weight (g)  Timepoint  \\\n",
       "0     k403     Ramicane  Male          21          16          0   \n",
       "1     k403     Ramicane  Male          21          16          5   \n",
       "2     k403     Ramicane  Male          21          16         10   \n",
       "3     k403     Ramicane  Male          21          16         15   \n",
       "4     k403     Ramicane  Male          21          16         20   \n",
       "\n",
       "   Tumor Volume (mm3)  Metastatic Sites  \n",
       "0           45.000000                 0  \n",
       "1           38.825898                 0  \n",
       "2           35.014271                 1  \n",
       "3           34.223992                 1  \n",
       "4           32.997729                 1  "
      ]
     },
     "execution_count": 250,
     "metadata": {},
     "output_type": "execute_result"
    }
   ],
   "source": [
    "# Display dataset for reference\n",
    "clean_mouse_study.head()"
   ]
  },
  {
   "cell_type": "code",
   "execution_count": 218,
   "metadata": {},
   "outputs": [
    {
     "data": {
      "text/html": [
       "<div>\n",
       "<style scoped>\n",
       "    .dataframe tbody tr th:only-of-type {\n",
       "        vertical-align: middle;\n",
       "    }\n",
       "\n",
       "    .dataframe tbody tr th {\n",
       "        vertical-align: top;\n",
       "    }\n",
       "\n",
       "    .dataframe thead th {\n",
       "        text-align: right;\n",
       "    }\n",
       "</style>\n",
       "<table border=\"1\" class=\"dataframe\">\n",
       "  <thead>\n",
       "    <tr style=\"text-align: right;\">\n",
       "      <th></th>\n",
       "      <th>Mouse ID</th>\n",
       "      <th>Sex</th>\n",
       "      <th>Age_months</th>\n",
       "      <th>Weight (g)</th>\n",
       "      <th>Timepoint</th>\n",
       "      <th>Tumor Volume (mm3)</th>\n",
       "      <th>Metastatic Sites</th>\n",
       "    </tr>\n",
       "    <tr>\n",
       "      <th>Drug Regimen</th>\n",
       "      <th></th>\n",
       "      <th></th>\n",
       "      <th></th>\n",
       "      <th></th>\n",
       "      <th></th>\n",
       "      <th></th>\n",
       "      <th></th>\n",
       "    </tr>\n",
       "  </thead>\n",
       "  <tbody>\n",
       "    <tr>\n",
       "      <th>Capomulin</th>\n",
       "      <td>w150</td>\n",
       "      <td>Male</td>\n",
       "      <td>23</td>\n",
       "      <td>23</td>\n",
       "      <td>10</td>\n",
       "      <td>39.952347</td>\n",
       "      <td>0</td>\n",
       "    </tr>\n",
       "    <tr>\n",
       "      <th>Capomulin</th>\n",
       "      <td>r157</td>\n",
       "      <td>Male</td>\n",
       "      <td>22</td>\n",
       "      <td>25</td>\n",
       "      <td>15</td>\n",
       "      <td>46.539206</td>\n",
       "      <td>0</td>\n",
       "    </tr>\n",
       "    <tr>\n",
       "      <th>Capomulin</th>\n",
       "      <td>f966</td>\n",
       "      <td>Male</td>\n",
       "      <td>16</td>\n",
       "      <td>17</td>\n",
       "      <td>20</td>\n",
       "      <td>30.485985</td>\n",
       "      <td>0</td>\n",
       "    </tr>\n",
       "    <tr>\n",
       "      <th>Capomulin</th>\n",
       "      <td>j246</td>\n",
       "      <td>Female</td>\n",
       "      <td>21</td>\n",
       "      <td>21</td>\n",
       "      <td>35</td>\n",
       "      <td>38.753265</td>\n",
       "      <td>1</td>\n",
       "    </tr>\n",
       "    <tr>\n",
       "      <th>Capomulin</th>\n",
       "      <td>x401</td>\n",
       "      <td>Female</td>\n",
       "      <td>16</td>\n",
       "      <td>15</td>\n",
       "      <td>45</td>\n",
       "      <td>28.484033</td>\n",
       "      <td>0</td>\n",
       "    </tr>\n",
       "    <tr>\n",
       "      <th>...</th>\n",
       "      <td>...</td>\n",
       "      <td>...</td>\n",
       "      <td>...</td>\n",
       "      <td>...</td>\n",
       "      <td>...</td>\n",
       "      <td>...</td>\n",
       "      <td>...</td>\n",
       "    </tr>\n",
       "    <tr>\n",
       "      <th>Ceftamin</th>\n",
       "      <td>p438</td>\n",
       "      <td>Female</td>\n",
       "      <td>11</td>\n",
       "      <td>26</td>\n",
       "      <td>45</td>\n",
       "      <td>61.433892</td>\n",
       "      <td>1</td>\n",
       "    </tr>\n",
       "    <tr>\n",
       "      <th>Ceftamin</th>\n",
       "      <td>o287</td>\n",
       "      <td>Male</td>\n",
       "      <td>2</td>\n",
       "      <td>28</td>\n",
       "      <td>45</td>\n",
       "      <td>59.741901</td>\n",
       "      <td>4</td>\n",
       "    </tr>\n",
       "    <tr>\n",
       "      <th>Ceftamin</th>\n",
       "      <td>a275</td>\n",
       "      <td>Female</td>\n",
       "      <td>20</td>\n",
       "      <td>28</td>\n",
       "      <td>45</td>\n",
       "      <td>62.999356</td>\n",
       "      <td>3</td>\n",
       "    </tr>\n",
       "    <tr>\n",
       "      <th>Ceftamin</th>\n",
       "      <td>x581</td>\n",
       "      <td>Female</td>\n",
       "      <td>19</td>\n",
       "      <td>28</td>\n",
       "      <td>45</td>\n",
       "      <td>64.634949</td>\n",
       "      <td>3</td>\n",
       "    </tr>\n",
       "    <tr>\n",
       "      <th>Ceftamin</th>\n",
       "      <td>w151</td>\n",
       "      <td>Male</td>\n",
       "      <td>24</td>\n",
       "      <td>25</td>\n",
       "      <td>45</td>\n",
       "      <td>67.527482</td>\n",
       "      <td>3</td>\n",
       "    </tr>\n",
       "  </tbody>\n",
       "</table>\n",
       "<p>100 rows × 7 columns</p>\n",
       "</div>"
      ],
      "text/plain": [
       "             Mouse ID     Sex  Age_months  Weight (g)  Timepoint  \\\n",
       "Drug Regimen                                                       \n",
       "Capomulin        w150    Male          23          23         10   \n",
       "Capomulin        r157    Male          22          25         15   \n",
       "Capomulin        f966    Male          16          17         20   \n",
       "Capomulin        j246  Female          21          21         35   \n",
       "Capomulin        x401  Female          16          15         45   \n",
       "...               ...     ...         ...         ...        ...   \n",
       "Ceftamin         p438  Female          11          26         45   \n",
       "Ceftamin         o287    Male           2          28         45   \n",
       "Ceftamin         a275  Female          20          28         45   \n",
       "Ceftamin         x581  Female          19          28         45   \n",
       "Ceftamin         w151    Male          24          25         45   \n",
       "\n",
       "              Tumor Volume (mm3)  Metastatic Sites  \n",
       "Drug Regimen                                        \n",
       "Capomulin              39.952347                 0  \n",
       "Capomulin              46.539206                 0  \n",
       "Capomulin              30.485985                 0  \n",
       "Capomulin              38.753265                 1  \n",
       "Capomulin              28.484033                 0  \n",
       "...                          ...               ...  \n",
       "Ceftamin               61.433892                 1  \n",
       "Ceftamin               59.741901                 4  \n",
       "Ceftamin               62.999356                 3  \n",
       "Ceftamin               64.634949                 3  \n",
       "Ceftamin               67.527482                 3  \n",
       "\n",
       "[100 rows x 7 columns]"
      ]
     },
     "execution_count": 218,
     "metadata": {},
     "output_type": "execute_result"
    }
   ],
   "source": [
    "# Create dataframe with the information at the last timepoint for each mouse ID\n",
    "ID_Timepoint = clean_mouse_study.sort_values(by=['Timepoint'])\n",
    "ID_Last_Timepoint = ID_Timepoint.drop_duplicates(subset=['Mouse ID', 'Drug Regimen'], keep='last')\n",
    "\n",
    "# Calculate the final tumor volume of each mouse across four of the treatment regimens:  \n",
    "# Capomulin, Ramicane, Infubinol, and Ceftamin\n",
    "Final_TumorVol_Capomulin = ID_Last_Timepoint.loc[(ID_Last_Timepoint['Drug Regimen']==\"Capomulin\")] \n",
    "Final_TumorVol_Ramicane = ID_Last_Timepoint.loc[(ID_Last_Timepoint['Drug Regimen']==\"Ramicane\")]\n",
    "Final_TumorVol_Infubinol = ID_Last_Timepoint.loc[(ID_Last_Timepoint['Drug Regimen']==\"Infubinol\")]\n",
    "Final_TumorVol_Ceftamin = ID_Last_Timepoint.loc[(ID_Last_Timepoint['Drug Regimen']==\"Ceftamin\")] \n",
    "# Concatenate final tumor volumes across 4 regimens into one df\n",
    "Frames = [Final_TumorVol_Capomulin,Final_TumorVol_Ramicane,Final_TumorVol_Infubinol,Final_TumorVol_Ceftamin]\n",
    "Final_TumorVol_AllReg = pd.concat(Frames)\n",
    "Final_TumorVol_AllReg = Final_TumorVol_AllReg.set_index('Drug Regimen')\n",
    "Final_TumorVol_AllReg"
   ]
  },
  {
   "cell_type": "markdown",
   "metadata": {},
   "source": [
    "Calculate the quartiles and IQR and quantitatively determine if there are any potential outliers across all four treatment regimens."
   ]
  },
  {
   "cell_type": "code",
   "execution_count": 246,
   "metadata": {},
   "outputs": [
    {
     "name": "stdout",
     "output_type": "stream",
     "text": [
      "The lower quartile of tumor volume for regimen Capomulin is: 32.37735684 (mm3)\n",
      "The upper quartile of tumor volume for regimen Capomulin is: 40.1592203 (mm3)\n",
      "The interquartile range of tumor volume for regimen Capomulin is: 7.781863460000004 (mm3)\n",
      "The the median of tumor volume for regimen Capomulin is: 38.125164399999996(mm3)\n",
      "Values below 20.70456164999999 could be outliers.\n",
      "Values above 51.83201549 could be outliers.\n",
      "________________________________________________\n",
      "The lower quartile of tumor volume for regimen Ramicane is: 31.56046955 (mm3)\n",
      "The upper quartile of tumor volume for regimen Ramicane is: 40.65900627 (mm3)\n",
      "The interquartile range of tumor volume for regimen Ramicane is: 9.098536719999998 (mm3)\n",
      "The the median of tumor volume for regimen Ramicane is: 36.56165229(mm3)\n",
      "Values below 17.912664470000003 could be outliers.\n",
      "Values above 54.30681135 could be outliers.\n",
      "________________________________________________\n",
      "The lower quartile of tumor volume for regimen Infubinol is: 54.04860769 (mm3)\n",
      "The upper quartile of tumor volume for regimen Infubinol is: 65.52574285 (mm3)\n",
      "The interquartile range of tumor volume for regimen Infubinol is: 11.477135160000003 (mm3)\n",
      "The the median of tumor volume for regimen Infubinol is: 60.16518046(mm3)\n",
      "Values below 36.83290494999999 could be outliers.\n",
      "Values above 82.74144559000001 could be outliers.\n",
      "________________________________________________\n",
      "The lower quartile of tumor volume for regimen Ceftamin is: 48.72207785 (mm3)\n",
      "The upper quartile of tumor volume for regimen Ceftamin is: 64.29983003 (mm3)\n",
      "The interquartile range of tumor volume for regimen Ceftamin is: 15.577752179999997 (mm3)\n",
      "The the median of tumor volume for regimen Ceftamin is: 59.85195552(mm3)\n",
      "Values below 25.355449580000002 could be outliers.\n",
      "Values above 87.66645829999999 could be outliers.\n",
      "________________________________________________\n"
     ]
    }
   ],
   "source": [
    "# Calculate quartiles, IQR, and identify potential outliers for each regimen.\n",
    "regimens = ['Capomulin','Ramicane','Infubinol','Ceftamin']\n",
    "\n",
    "for regimen in regimens:\n",
    "    \n",
    "    Tumor_Vol_Reg = Final_TumorVol_AllReg.loc[[regimen],['Tumor Volume (mm3)']]\n",
    "    Tumor_Vol = Tumor_Vol_Reg['Tumor Volume (mm3)']\n",
    "    \n",
    "    quartiles = Tumor_Vol.quantile([.25,.5,.75])\n",
    "    lowerq = quartiles[0.25]\n",
    "    upperq = quartiles[0.75]\n",
    "    iqr = upperq-lowerq\n",
    "\n",
    "    print(f\"The lower quartile of tumor volume for regimen {regimen} is: {lowerq} (mm3)\")\n",
    "    print(f\"The upper quartile of tumor volume for regimen {regimen} is: {upperq} (mm3)\")\n",
    "    print(f\"The interquartile range of tumor volume for regimen {regimen} is: {iqr} (mm3)\")\n",
    "    print(f\"The the median of tumor volume for regimen {regimen} is: {quartiles[0.5]}(mm3)\")\n",
    "\n",
    "    lower_bound = lowerq - (1.5*iqr)\n",
    "    upper_bound = upperq + (1.5*iqr)\n",
    "    print(f\"Values below {lower_bound} could be outliers.\")\n",
    "    print(f\"Values above {upper_bound} could be outliers.\")\n",
    "    print(\"________________________________________________\")\n",
    "\n",
    "    "
   ]
  },
  {
   "cell_type": "code",
   "execution_count": 220,
   "metadata": {},
   "outputs": [
    {
     "data": {
      "image/png": "[encoded data removed]",
      "text/plain": [
       "<Figure size 432x288 with 4 Axes>"
      ]
     },
     "metadata": {
      "needs_background": "light"
     },
     "output_type": "display_data"
    }
   ],
   "source": [
    "# Generate a box plot of the final tumor volume of each mouse across four regimens of interest\n",
    "# There should be a single chart with four box plots inside it.\n",
    "\n",
    "fig, (ax1, ax2, ax3, ax4) = plt.subplots(1, 4,sharey=True)\n",
    "fig.suptitle('Final Tumor Volume for Mice Treated With Various Drug Regimens')\n",
    "\n",
    "Tumor_Vol_Reg = Final_TumorVol_AllReg.loc[['Capomulin'],['Tumor Volume (mm3)']]\n",
    "Tumor_Vol = Tumor_Vol_Reg['Tumor Volume (mm3)']\n",
    "ax1.set_xlabel('Capomulin')\n",
    "ax1.set_ylabel('Final Tumor Volume (mm3)')\n",
    "ax1.boxplot(Tumor_Vol)\n",
    "\n",
    "Tumor_Vol_Reg = Final_TumorVol_AllReg.loc[['Ramicane'],['Tumor Volume (mm3)']]\n",
    "Tumor_Vol = Tumor_Vol_Reg['Tumor Volume (mm3)']\n",
    "ax2.set_xlabel('Ramicane')\n",
    "ax2.boxplot(Tumor_Vol)\n",
    "\n",
    "Tumor_Vol_Reg = Final_TumorVol_AllReg.loc[['Infubinol'],['Tumor Volume (mm3)']]\n",
    "Tumor_Vol = Tumor_Vol_Reg['Tumor Volume (mm3)']\n",
    "ax3.set_xlabel('Infubinol')\n",
    "ax3.boxplot(Tumor_Vol)\n",
    "\n",
    "Tumor_Vol_Reg = Final_TumorVol_AllReg.loc[['Ceftamin'],['Tumor Volume (mm3)']]\n",
    "Tumor_Vol = Tumor_Vol_Reg['Tumor Volume (mm3)']\n",
    "ax4.set_xlabel('Ceftamin')\n",
    "ax4.boxplot(Tumor_Vol)\n",
    "\n",
    "plt.show()"
   ]
  },
  {
   "cell_type": "markdown",
   "metadata": {},
   "source": [
    "## Line and Scatter Plots"
   ]
  },
  {
   "cell_type": "code",
   "execution_count": 221,
   "metadata": {},
   "outputs": [
    {
     "data": {
      "image/png": "[encoded data removed]",
      "text/plain": [
       "<Figure size 432x288 with 1 Axes>"
      ]
     },
     "metadata": {
      "needs_background": "light"
     },
     "output_type": "display_data"
    }
   ],
   "source": [
    "# Generate a line plot of tumor volume vs. time point for a single mouse \n",
    "# treated with Capomulin\n",
    "Capomulin_data = clean_mouse_study.loc[(clean_mouse_study['Drug Regimen']==\"Capomulin\")]\n",
    "Capomulin_MouseID = Capomulin_data['Mouse ID'].unique()\n",
    "\n",
    "s185_data = Capomulin_data.loc[(Capomulin_data['Mouse ID']==\"s185\")]\n",
    "\n",
    "plt.title(\"Tumor Volume Across Timepoints for Mouse 's185' Treated With Capomulin\")\n",
    "plt.xlabel(\"Timepoint\")\n",
    "plt.ylabel(\"Tumor Volume (mm3)\")\n",
    "plt.plot(s185_data['Timepoint'], s185_data['Tumor Volume (mm3)'], color=\"blue\" )\n",
    "plt.show()"
   ]
  },
  {
   "cell_type": "code",
   "execution_count": 222,
   "metadata": {},
   "outputs": [
    {
     "data": {
      "image/png": "[encoded data removed]",
      "text/plain": [
       "<Figure size 576x576 with 1 Axes>"
      ]
     },
     "metadata": {
      "needs_background": "light"
     },
     "output_type": "display_data"
    }
   ],
   "source": [
    "# For each mouse ID, calculate average tumor volume and mouse weight across all the timepoints\n",
    "Capomulin_data.set_index(\"Mouse ID\")\n",
    "\n",
    "MouseID = []\n",
    "weight = []\n",
    "vol = []\n",
    "\n",
    "for ID in Capomulin_MouseID:\n",
    "    \n",
    "    MouseID.append(ID)\n",
    "    \n",
    "    Avg_weight = Capomulin_data.loc[Capomulin_data['Mouse ID']==ID, 'Weight (g)'].mean()\n",
    "    weight.append(Avg_weight)\n",
    "    \n",
    "    Avg_vol = Capomulin_data.loc[Capomulin_data['Mouse ID']==ID, 'Tumor Volume (mm3)'].mean()\n",
    "    vol.append(Avg_vol)\n",
    "    \n",
    "Avg_weight_vol = pd.DataFrame({'MouseID' : MouseID,\n",
    "                               'AvgWeight' : weight,\n",
    "                               'AvgTumorVolume' : vol,\n",
    "                              })\n",
    "# Generate a scatter plot of average tumor volume vs. mouse weight for all mice in the Capomulin regimen\n",
    "# Convert columns to numeric so the data can be used\n",
    "\n",
    "Avg_weight_vol.plot(kind=\"scatter\", x=\"AvgWeight\", y=\"AvgTumorVolume\", grid=True, figsize=(8,8),\n",
    "              title=\"Average Tumor Volume(mm3) for Mice on Capomulin Vs. Average Weight (g)\")\n",
    "plt.ylabel(\"Average Tumor Volume (mm3)\")\n",
    "plt.xlabel(\"Average Weight (g)\")\n",
    "plt.show()"
   ]
  },
  {
   "cell_type": "markdown",
   "metadata": {},
   "source": [
    "## Correlation and Regression"
   ]
  },
  {
   "cell_type": "code",
   "execution_count": 226,
   "metadata": {},
   "outputs": [
    {
     "name": "stdout",
     "output_type": "stream",
     "text": [
      "The correlation between average weight(g) and average tumor volume(mm3) for mice on Capomulin is 0.84\n"
     ]
    },
    {
     "data": {
      "image/png": "[encoded data removed]",
      "text/plain": [
       "<Figure size 432x288 with 1 Axes>"
      ]
     },
     "metadata": {
      "needs_background": "light"
     },
     "output_type": "display_data"
    }
   ],
   "source": [
    "# Calculate the correlation coefficient and linear regression model \n",
    "# for mouse weight and average tumor volume for the Capomulin regimen\n",
    "x_values = Avg_weight_vol['AvgWeight']\n",
    "y_values = Avg_weight_vol[\"AvgTumorVolume\"]\n",
    "\n",
    "correlation = st.pearsonr(x_values, y_values)\n",
    "print(f\"The correlation between average weight(g) and average tumor volume(mm3) for mice on Capomulin is {round(correlation[0],2)}\")\n",
    "\n",
    "(slope, intercept, rvalue, pvalue, stderr) = linregress(x_values, y_values)\n",
    "regress_values = x_values * slope + intercept\n",
    "\n",
    "line_eq = \"y = \" + str(round(slope,2)) + \"x + \" + str(round(intercept,2))\n",
    "plt.scatter(x_values,y_values)\n",
    "plt.plot(x_values,regress_values,\"r-\")\n",
    "\n",
    "# print the equation for the line\n",
    "plt.annotate(line_eq,(20,36),fontsize=15,color=\"red\")\n",
    "plt.xlabel('Average Weight (g)')\n",
    "plt.ylabel('Average Tumor Volume (mm3)')\n",
    "plt.show()\n"
   ]
  },
  {
   "cell_type": "markdown",
   "metadata": {},
   "source": [
    "# Observations and Insights"
   ]
  },
  {
   "cell_type": "markdown",
   "metadata": {},
   "source": []
  },
  {
   "cell_type": "markdown",
   "metadata": {},
   "source": []
  }
 ],
 "metadata": {
  "anaconda-cloud": {},
  "kernelspec": {
   "display_name": "Python 3",
   "language": "python",
   "name": "python3"
  },
  "language_info": {
   "codemirror_mode": {
    "name": "ipython",
    "version": 3
   },
   "file_extension": ".py",
   "mimetype": "text/x-python",
   "name": "python",
   "nbconvert_exporter": "python",
   "pygments_lexer": "ipython3",
   "version": "3.6.10"
  },
  "toc": {
   "base_numbering": 1,
   "nav_menu": {},
   "number_sections": true,
   "sideBar": true,
   "skip_h1_title": false,
   "title_cell": "Table of Contents",
   "title_sidebar": "Contents",
   "toc_cell": false,
   "toc_position": {},
   "toc_section_display": true,
   "toc_window_display": false
  },
  "varInspector": {
   "cols": {
    "lenName": 16,
    "lenType": 16,
    "lenVar": 40
   },
   "kernels_config": {
    "python": {
     "delete_cmd_postfix": "",
     "delete_cmd_prefix": "del ",
     "library": "var_list.py",
     "varRefreshCmd": "print(var_dic_list())"
    },
    "r": {
     "delete_cmd_postfix": ") ",
     "delete_cmd_prefix": "rm(",
     "library": "var_list.r",
     "varRefreshCmd": "cat(var_dic_list()) "
    }
   },
   "types_to_exclude": [
    "module",
    "function",
    "builtin_function_or_method",
    "instance",
    "_Feature"
   ],
   "window_display": false
  }
 },
 "nbformat": 4,
 "nbformat_minor": 4
}
